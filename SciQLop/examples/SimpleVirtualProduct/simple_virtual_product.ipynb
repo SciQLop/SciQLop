{
 "cells": [
  {
   "cell_type": "markdown",
   "source": [
    "# SciQLop - Simple Virtual product example"
   ],
   "metadata": {
    "collapsed": false
   },
   "id": "6f3290fecf474c92"
  },
  {
   "cell_type": "code",
   "outputs": [],
   "source": [
    "from datetime import datetime, timedelta\n",
    "import numpy as np\n",
    "from SciQLop.user_api.plot import create_plot_panel, TimeRange\n",
    "from SciQLop.user_api.virtual_products import create_virtual_product, VirtualProductType\n"
   ],
   "metadata": {},
   "id": "f937d3c3-dc2e-4f3e-be56-383c6db70086",
   "execution_count": 0
  },
  {
   "cell_type": "markdown",
   "source": [
    "## 1. Generator function\n",
    "To create a simple virtual product, we need to create a function that returns the data, the time axis and take as input the start and stop time of the requested data.\n"
   ],
   "metadata": {
    "collapsed": false
   },
   "id": "98d282f227bd6578"
  },
  {
   "cell_type": "code",
   "outputs": [],
   "source": [
    "def my_product_gen(start: datetime, stop: datetime) -> (np.ndarray, np.ndarray):\n",
    "    x = np.arange(round(start.timestamp()/5)*5, round(stop.timestamp()/5)*5, 5, dtype=np.float64)\n",
    "    return x, np.cos(x/100)\n",
    "    "
   ],
   "metadata": {
    "collapsed": false
   },
   "id": "86f7f07b6c78dec5",
   "execution_count": null
  },
  {
   "cell_type": "markdown",
   "source": [
    "## 2. Register the function as a virtual product\n",
    "Now that we have the function, we can create the virtual product using the create_virtual_product function. The function takes the following arguments:"
   ],
   "metadata": {
    "collapsed": false
   },
   "id": "cea029a7caca6ad2"
  },
  {
   "cell_type": "code",
   "outputs": [],
   "source": [
    "my_product = create_virtual_product(\n",
    "    path = \"examples/my_product\",           # The path of the virtual product in the product tree.\n",
    "    callback=my_product_gen,                # The callback function that computes the virtual product.\n",
    "    product_type=VirtualProductType.Scalar, # The type of the virtual product (Scalar, Vector, MultiComponent, Spectrogram).\n",
    "    labels=[\"my_product\"],                  # The labels of the virtual product, only used for Scalar, Vector and MultiComponent types.\n",
    "    cachable=True,                          # If the virtual product can be cached, set to False if a value at a specific time depends on the plot time range.\n",
    "    debug=False                             # If True, SciQLop will log debug information about the virtual product, especially handy when the function fails.\n",
    ")"
   ],
   "metadata": {
    "collapsed": false
   },
   "id": "8ca92a084d1cdf73",
   "execution_count": null
  },
  {
   "cell_type": "markdown",
   "source": [
    "## 3. Plot the product\n",
    "Once the product is created, we can plot it using the plot method of the plot panel or graphically by dragging and dropping the product on any plot panel."
   ],
   "metadata": {
    "collapsed": false
   },
   "id": "49d948e6595f423a"
  },
  {
   "cell_type": "code",
   "outputs": [],
   "source": [
    "p = create_plot_panel() # Create a plot panel\n",
    "p.time_range = TimeRange(datetime.now().timestamp(), (datetime.now()+timedelta(seconds=100)).timestamp())\n",
    "\n",
    "p.plot(my_product) # Plot the virtual product, it would also work whit `p.plot(\"examples/my_product\")`\n",
    "                   # or by dragging and dropping the product from the product tree to the plot panel."
   ],
   "metadata": {
    "collapsed": false
   },
   "id": "b344ce68a63298c7",
   "execution_count": null
  }
 ],
 "metadata": {
  "kernelspec": {
   "display_name": "Python 3 (ipykernel)",
   "language": "python",
   "name": "python3"
  },
  "language_info": {
   "codemirror_mode": {
    "name": "ipython",
    "version": 3
   },
   "file_extension": ".py",
   "mimetype": "text/x-python",
   "name": "python",
   "nbconvert_exporter": "python",
   "pygments_lexer": "ipython3",
   "version": "3.10.13"
  },
  "widgets": {
   "application/vnd.jupyter.widget-state+json": {
    "state": {},
    "version_major": 2,
    "version_minor": 0
   }
  }
 },
 "nbformat": 4,
 "nbformat_minor": 5
}
