{
 "cells": [
  {
   "metadata": {},
   "cell_type": "markdown",
   "source": [
    "# MMM 18-02-2025 Tag-up meeting demo Notebook\n",
    "\n",
    "This notebook demonstrates various functionalities using MMS (Magnetospheric Multiscale) mission data analysis with SciQLop. It includes:\n",
    "\n",
    "- Basic data visualization of MMS1 magnetic field, ion density and energy spectrogram\n",
    "- Signal processing with custom virtual products for filtering high-frequency electric field data \n",
    "- Time-shift operations on spacecraft data\n",
    "- Visualization of spacecraft trajectories with magnetopause and bow shock models\n",
    "\n",
    "The examples use the SciQLop Python API along with the speasy library for data access and processing.\n"
   ],
   "id": "dd430177daa4577b"
  },
  {
   "cell_type": "code",
   "id": "32b703a0-1759-4515-9ae4-9fa680a0eb32",
   "metadata": {},
   "source": [
    "from typing import List, Optional\n",
    "from SciQLop.user_api.plot import *\n",
    "from SciQLop.user_api.virtual_products import create_virtual_product, VirtualProductType\n",
    "from datetime import datetime, timedelta\n",
    "import speasy as spz\n",
    "from speasy import SpeasyVariable\n",
    "from speasy.signal.filtering import sosfiltfilt\n",
    "import numpy as np\n",
    "from scipy import signal\n",
    "import matplotlib.pyplot as plt\n",
    "%matplotlib inline"
   ],
   "outputs": [],
   "execution_count": null
  },
  {
   "metadata": {},
   "cell_type": "markdown",
   "source": [
    "# Simple plot panel\n",
    "\n",
    "In this panel, we create a basic visualization of MMS1 data showing:\n",
    "- Magnetic field components from FGM instrument\n",
    "- Ion density from FPI instrument \n",
    "- Ion energy spectrogram from FPI instrument\n",
    "\n",
    "The time range is set to observe data during December 30-31, 2018.\n"
   ],
   "id": "5c0dbd2c42d57976"
  },
  {
   "metadata": {},
   "cell_type": "code",
   "source": [
    "p = create_plot_panel()\n",
    "p.plot(\"speasy//cda//MMS//MMS1//FGM//MMS1_FGM_SRVY_L2//mms1_fgm_b_gse_srvy_l2\")\n",
    "p.plot(\"speasy//cda//MMS//MMS1//DIS//MMS1_FPI_FAST_L2_DIS_MOMS//mms1_dis_numberdensity_fast\")\n",
    "p.plot(\"speasy//cda//MMS//MMS1//DIS//MMS1_FPI_FAST_L2_DIS_MOMS//mms1_dis_energyspectr_omni_fast\")\n",
    "p.time_range = TimeRange(\"2018-12-30\", \"2018-12-31\")"
   ],
   "id": "3306c42d573c0df6",
   "outputs": [],
   "execution_count": null
  },
  {
   "metadata": {},
   "cell_type": "markdown",
   "source": [
    "# Virtual Product\n",
    "\n",
    "In this section, we create a custom virtual product to filter high-frequency electric field data from MMS1. The implementation includes:\n",
    "- IIR bandpass filter design and visualization \n",
    "- Virtual product creation for filtered E-field\n",
    "- Comparison plots between raw and filtered signals\n"
   ],
   "id": "60e681de5bcf99dc"
  },
  {
   "cell_type": "code",
   "id": "5ffa9b62-f2cf-4494-85fb-37c58501983c",
   "metadata": {},
   "source": [
    "sos = signal.iirfilter(N=8, Wn=[100 / 32000, 10000 / 32000], rs=80, btype='bandpass', output='sos')\n",
    "w, h = signal.sosfreqz(sos, worN=150000)\n",
    "plt.subplot(2, 1, 1)\n",
    "db = 20 * np.log10(np.maximum(np.abs(h), 1e-5))\n",
    "plt.plot(w / np.pi, db)\n",
    "plt.ylim(-75, 5)\n",
    "plt.grid(True)\n",
    "plt.yticks([0, -20, -40, -60])\n",
    "plt.semilogx()\n",
    "plt.ylabel('Gain [dB]')\n",
    "plt.title('Frequency Response')\n",
    "plt.subplot(2, 1, 2)\n",
    "plt.plot(w / np.pi, np.angle(h))\n",
    "plt.grid(True)\n",
    "plt.yticks([-np.pi, -0.5 * np.pi, 0, 0.5 * np.pi, np.pi],\n",
    "           [r'$-\\pi$', r'$-\\pi/2$', '0', r'$\\pi/2$', r'$\\pi$'])\n",
    "plt.ylabel('Phase [rad]')\n",
    "plt.xlabel('Normalized frequency (1.0 = Nyquist)')\n",
    "plt.semilogx()\n",
    "plt.show()\n",
    "\n"
   ],
   "outputs": [],
   "execution_count": null
  },
  {
   "cell_type": "code",
   "id": "58efaeb6-7146-4e36-8fe3-f56ea06321b7",
   "metadata": {},
   "source": [
    "def filter_mms1_edp_hmfe_par_epar_brst_l2(start: datetime, stop: datetime) -> Optional[SpeasyVariable]:\n",
    "    B = spz.get_data(spz.inventories.tree.cda.MMS.MMS1.ADP_SDP.MMS1_EDP_BRST_L2_HMFE.mms1_edp_hmfe_par_epar_brst_l2,\n",
    "                     start - timedelta(seconds=1),\n",
    "                     stop + timedelta(seconds=1))\n",
    "    b = sosfiltfilt(sos, B)\n",
    "    return b[start:stop]\n",
    "\n",
    "\n",
    "filtered_mms1_edp_hmfe_par_epar_brst_l2 = create_virtual_product(path=\"MMS1/filter_mms1_edp_hmfe_par_epar_brst_l2\",\n",
    "                                                                 callback=filter_mms1_edp_hmfe_par_epar_brst_l2,\n",
    "                                                                 product_type=VirtualProductType.Scalar,\n",
    "                                                                 labels=[\"filtered DC E parallel\"],\n",
    "                                                                 cachable=True)\n",
    "\n",
    "p = create_plot_panel()\n",
    "p.time_range = TimeRange(\"2019-02-17T12:33\", \"2019-02-17T12:34\")\n",
    "p.plot(\"speasy//cda//MMS//MMS1//ADP_SDP//MMS1_EDP_BRST_L2_HMFE//mms1_edp_hmfe_par_epar_brst_l2\")\n",
    "p.plot(filtered_mms1_edp_hmfe_par_epar_brst_l2)"
   ],
   "outputs": [],
   "execution_count": null
  },
  {
   "cell_type": "markdown",
   "id": "817cde28-c8b6-49c3-8497-e4659f9ce054",
   "metadata": {},
   "source": [
    "# Simple Constant Time Shift Example (2015-12-28 22h)\n",
    "\n",
    "This section demonstrates how to create a time-shifted version of MMS3 FGM data. The example:\n",
    "- Shifts MMS3 magnetic field data by 1 second\n",
    "- Creates a virtual product for the shifted data\n",
    "- Plots the original and shifted data for comparison\n"
   ]
  },
  {
   "cell_type": "code",
   "id": "21351ecc-79c6-4ca1-bd16-0424749e98e2",
   "metadata": {},
   "source": [
    "def shifted_mms3_fgm(start: datetime, stop: datetime) -> Optional[SpeasyVariable]:\n",
    "    mms2_fgm = spz.get_data(spz.inventories.tree.cda.MMS.MMS3.FGM.MMS3_FGM_SRVY_L2.mms3_fgm_b_gse_srvy_l2, start, stop)\n",
    "    if mms2_fgm is None:\n",
    "        return None\n",
    "    return (mms2_fgm + np.timedelta64(1, 's'))[\"Bt\"]\n",
    "\n",
    "\n",
    "shifted_mms3_fgm = create_virtual_product(path=\"MMS1/shifted_mms3_fgm\",\n",
    "                                          callback=shifted_mms3_fgm,\n",
    "                                          product_type=VirtualProductType.Scalar,\n",
    "                                          labels=[\"|b| - 1s\"],\n",
    "                                          cachable=True)\n",
    "\n",
    "p = create_plot_panel()\n",
    "p.time_range = TimeRange(\"2015-12-28T22:11\", \"2015-12-28T22:13\")\n",
    "plot, graph = p.plot(\"speasy//amda//Parameters//MMS//MMS3//FGM//survey//|b|\")\n",
    "plot.plot(shifted_mms3_fgm)"
   ],
   "outputs": [],
   "execution_count": null
  },
  {
   "cell_type": "markdown",
   "id": "42222b64-33f9-4028-8d50-ad8a7ef391a5",
   "metadata": {},
   "source": [
    "# Trajectories + Models Visualization\n",
    "\n",
    "This section demonstrates how to visualize MMS spacecraft trajectories along with magnetopause and bow shock models. The following cells will:\n",
    "\n",
    "1. Create a virtual product for MMS1 position data in GSE coordinates\n",
    "2. Define callbacks for magnetopause and bow shock models using [spok](https://github.com/LaboratoryOfPlasmaPhysics/spok)\n",
    "3. Plot the spacecraft trajectory with model boundaries in 2D projections\n"
   ]
  },
  {
   "cell_type": "code",
   "id": "22fae4b7-75ec-4792-b1ac-dda697dde62f",
   "metadata": {},
   "source": [
    "def mms1_pos_gse(start: float, stop: float):\n",
    "    try:\n",
    "        v = spz.get_data(f\"amda/mms1_xyz_gse\", start, stop)\n",
    "        if v is None:\n",
    "            return None\n",
    "        t = (v.time.astype(np.int64) / 1e9).astype(np.float64)\n",
    "        x = v.values[:, 0].astype(np.float64)\n",
    "        y = v.values[:, 1].astype(np.float64)\n",
    "        z = v.values[:, 2].astype(np.float64)\n",
    "        return t, x, y, z\n",
    "    except Exception as e:\n",
    "        print(f\"Error: {e}\")\n",
    "        return None\n",
    "\n",
    "\n",
    "vp = create_virtual_product(path=\"MMS1/pos\",\n",
    "                            callback=mms1_pos_gse,\n",
    "                            product_type=VirtualProductType.MultiComponent,\n",
    "                            labels=[\"MMS1 GSE\"] * 3,\n",
    "                            cachable=True)"
   ],
   "outputs": [],
   "execution_count": null
  },
  {
   "cell_type": "code",
   "id": "242e7c2f-fc81-4925-9766-f02c1e6a0535",
   "metadata": {},
   "source": [
    "from spok.models.planetary import Magnetosheath\n",
    "\n",
    "msh = Magnetosheath(magnetopause='mp_shue1998', bow_shock='bs_jelinek2012')\n",
    "index = np.linspace(-0.8 * np.pi, 0.8 * np.pi, 100)\n",
    "\n",
    "\n",
    "def magnetopause_cb(start: float, stop: float) -> List[np.ndarray]:\n",
    "    Pd = np.nanmean(spz.get_data(\n",
    "        spz.inventories.tree.amda.Parameters.OMNI.Sun__Solar_Wind__Ground_Based_Indices.omni_1min_v2.omni_hro2_1min_sw_p,\n",
    "        start, stop))\n",
    "    Bz = np.nanmean(spz.get_data(\n",
    "        spz.inventories.tree.amda.Parameters.OMNI.Sun__Solar_Wind__Ground_Based_Indices.omni_1min_v2.omni_hro2_1min_b_gse,\n",
    "        start, stop)['bz'])\n",
    "    A = msh.magnetopause(index, np.pi / 2, Pd=Pd, Bz=Bz)\n",
    "    B = msh.magnetopause(np.pi / 2, index, Pd=Pd, Bz=Bz)\n",
    "    C = msh.magnetopause(index, 0, Pd=Pd, Bz=Bz)\n",
    "    return A[0].copy(), A[1].copy(), B[1].copy(), B[2].copy(), C[0].copy(), C[2].copy()\n",
    "\n",
    "\n",
    "def bow_shock_cb(start: float, stop: float) -> List[np.ndarray]:\n",
    "    Pd = np.nanmean(spz.get_data(\n",
    "        spz.inventories.tree.amda.Parameters.OMNI.Sun__Solar_Wind__Ground_Based_Indices.omni_1min_v2.omni_hro2_1min_sw_p,\n",
    "        start, stop))\n",
    "    Bz = np.nanmean(spz.get_data(\n",
    "        spz.inventories.tree.amda.Parameters.OMNI.Sun__Solar_Wind__Ground_Based_Indices.omni_1min_v2.omni_hro2_1min_b_gse,\n",
    "        start, stop)['bz'])\n",
    "    A = msh.bow_shock(index, np.pi / 2, Pd=Pd, Bz=Bz)\n",
    "    B = msh.bow_shock(np.pi / 2, index, Pd=Pd, Bz=Bz)\n",
    "    C = msh.bow_shock(index, 0, Pd=Pd, Bz=Bz)\n",
    "    return A[0].copy(), A[1].copy(), B[1].copy(), B[2].copy(), C[0].copy(), C[2].copy()\n",
    "\n",
    "\n",
    "vp = create_virtual_product(path=\"models/magnetopause\",\n",
    "                            callback=magnetopause_cb,\n",
    "                            product_type=VirtualProductType.MultiComponent,\n",
    "                            labels=[\"ms x,y\", \"ms y,z\", \"ms x,z\"],\n",
    "                            cachable=True)\n",
    "\n",
    "vp = create_virtual_product(path=\"models/bow shock\",\n",
    "                            callback=bow_shock_cb,\n",
    "                            product_type=VirtualProductType.MultiComponent,\n",
    "                            labels=[\"bs x,y\", \"bs y,z\", \"bs x,z\"],\n",
    "                            cachable=True)\n"
   ],
   "outputs": [],
   "execution_count": null
  },
  {
   "cell_type": "code",
   "id": "08721da5-0bd3-4bc5-a5fd-e66670d10000",
   "metadata": {},
   "source": [
    "panel = create_plot_panel()\n",
    "plot, graph = panel.plot(\"MMS1/pos\", plot_type=PlotType.Projection)\n",
    "plot.plot(\"models/magnetopause\")\n",
    "plot.plot(\"models/bow shock\")\n",
    "panel.plot(\"speasy//cda//MMS//MMS1//FGM//MMS1_FGM_SRVY_L2//mms1_fgm_b_gse_srvy_l2\")\n",
    "panel.time_range = TimeRange(\"2015-10-10\", \"2015-10-11\")"
   ],
   "outputs": [],
   "execution_count": null
  }
 ],
 "metadata": {
  "kernelspec": {
   "display_name": "Python 3 (ipykernel)",
   "language": "python",
   "name": "python3"
  },
  "language_info": {
   "codemirror_mode": {
    "name": "ipython",
    "version": 3
   },
   "file_extension": ".py",
   "mimetype": "text/x-python",
   "name": "python",
   "nbconvert_exporter": "python",
   "pygments_lexer": "ipython3",
   "version": "3.13.3"
  }
 },
 "nbformat": 4,
 "nbformat_minor": 5
}
