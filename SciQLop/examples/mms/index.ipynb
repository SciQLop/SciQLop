{
 "cells": [
  {
   "metadata": {},
   "cell_type": "markdown",
   "source": [
    "# MMS Examples Index\n",
    "\n",
    "This notebook serves as an index to example notebooks located in the `Notebooks` subfolder.\n",
    "\n",
    "## Available Examples\n",
    "- [MMS tag-up meeting demo](Notebooks/DemoMMS_tags-up_meeting.ipynb)\n",
    "- [MMS dayside magnetopause](Notebooks/MMS_dayside_magnetopause.ipynb)\n",
    "\n",
    "Each notebook demonstrates different aspects of working with MMS (Magnetospheric Multiscale) mission data and analysis techniques.\n",
    "\n",
    "Browse through the examples above to learn more about specific data analysis workflows.\n"
   ],
   "id": "2f784f69a4060714"
  },
  {
   "metadata": {},
   "cell_type": "markdown",
   "source": "",
   "id": "bf00ca7465e7efac"
  }
 ],
 "metadata": {
  "kernelspec": {
   "display_name": "Python 3",
   "language": "python",
   "name": "python3"
  },
  "language_info": {
   "codemirror_mode": {
    "name": "ipython",
    "version": 2
   },
   "file_extension": ".py",
   "mimetype": "text/x-python",
   "name": "python",
   "nbconvert_exporter": "python",
   "pygments_lexer": "ipython2",
   "version": "2.7.6"
  }
 },
 "nbformat": 4,
 "nbformat_minor": 5
}
