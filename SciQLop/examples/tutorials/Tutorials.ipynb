{
 "cells": [
  {
   "cell_type": "markdown",
   "id": "261408ac2d6f868b",
   "metadata": {},
   "source": [
    "# SciQLop Tutorials\n",
    "\n",
    "<div align=\"center\">\n",
    "<img src=\"https://github.com/SciQLop/SciQLop/raw/main/SciQLop/resources/icons/SciQLop.png\"/>\n",
    "</div>"
   ]
  },
  {
   "cell_type": "markdown",
   "id": "1e40881e83d81b42",
   "metadata": {},
   "source": [
    "Throughout this tutorial you will learn how to use Speasy to retrieve data, apply some basic transformations and visualize the results. You will also learn how to use SciQLop and its Python API to build fast visualizations and data processing pipelines.\n",
    "\n",
    "The tutorial is divided into the following sections:\n",
    "\n",
    "1. [SciQLop GUI discovery](SciQLop/1-SciQLopGUIDiscovery.ipynb)\n",
    "2. [Speasy first steps](Speasy/2-SpeasyFirstSteps.ipynb)\n",
    "3. [Speasy catalogs](Speasy/3-SpeasyCatalogs.ipynb)\n",
    "4. [Speasy data manipulation](Speasy/4-SpeasyDataManipulation.ipynb)\n",
    "5. [SciQLop basic plot panel](SciQLop/5-SciQLopBasicPlotPanel.ipynb)\n",
    "6. [SciQLop virtual products](SciQLop/6-SciQLopVirtualProducts.ipynb)\n",
    "\n",
    "In order to reduce the complexity of each concept, we will reuse results from previous sections. This way, you can focus on the new concepts and how to apply them to your data."
   ]
  }
 ],
 "metadata": {
  "kernelspec": {
   "display_name": "Python 3 (ipykernel)",
   "language": "python",
   "name": "python3"
  },
  "language_info": {
   "codemirror_mode": {
    "name": "ipython",
    "version": 3
   },
   "file_extension": ".py",
   "mimetype": "text/x-python",
   "name": "python",
   "nbconvert_exporter": "python",
   "pygments_lexer": "ipython3",
   "version": "3.12.3"
  }
 },
 "nbformat": 4,
 "nbformat_minor": 5
}
