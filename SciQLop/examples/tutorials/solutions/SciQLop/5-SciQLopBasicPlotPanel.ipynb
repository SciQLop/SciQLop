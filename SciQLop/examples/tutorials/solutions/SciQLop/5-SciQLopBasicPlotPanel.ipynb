{
 "cells": [
  {
   "cell_type": "markdown",
   "id": "3c6f12d3-f4a2-4069-b098-91c17cab9092",
   "metadata": {},
   "source": [
    "# TP 3 - SciQLOP python API\n",
    "\n",
    "The goal of this practical session is to learn how to interact with SciQLOP in python.\\\n",
    "In particular, how to create plot templates.\n",
    "\n",
    "<div align=\"center\">\n",
    "<img src=\"https://github.com/SciQLop/SciQLop/raw/main/SciQLop/resources/icons/SciQLop.png\"/>\n",
    "</div>\n",
    "\n",
    "# Basic plot panel\n",
    "\n",
    "In this example, we will create a plot panel, set a time range, and plot a product."
   ]
  },
  {
   "cell_type": "code",
   "id": "8f932124-a7e6-456e-910c-e1a546f9b289",
   "metadata": {},
   "source": [
    "from SciQLop.user_api import TimeRange\n",
    "from SciQLop.user_api.plot import create_plot_panel\n",
    "from datetime import datetime\n",
    "\n",
    "p = create_plot_panel()\n",
    "p.time_range = TimeRange(\n",
    "    datetime(2015, 11, 18, 2, 14, 30),\n",
    "    datetime(2015, 11, 18, 3, 34, 0)\n",
    ")\n",
    "\n",
    "p.plot(\"speasy//cda//MMS//MMS1//FGM//MMS1_FGM_SRVY_L2//mms1_fgm_b_gse_srvy_l2\")"
   ],
   "outputs": [],
   "execution_count": null
  },
  {
   "metadata": {},
   "cell_type": "markdown",
   "source": "Drag `DIS/MMS1_FPI_BRST_L2_DIS_MOMS/mms1_dis_numberdensity_fast` from the product tree to the cell below between the `\"` characters and execute the cell.",
   "id": "c6924541c6b41e59"
  },
  {
   "metadata": {},
   "cell_type": "code",
   "source": "density_plot =p.plot(\"      \".strip())",
   "id": "4f46c59cd2c3ba79",
   "outputs": [],
   "execution_count": null
  },
  {
   "metadata": {},
   "cell_type": "markdown",
   "source": "Now let's change the last plot Y scale to log.",
   "id": "b01837596e463eab"
  },
  {
   "metadata": {},
   "cell_type": "code",
   "source": [
    "from SciQLop.user_api.plot import ScaleType\n",
    "\n",
    "density_plot.y_scale_type = ScaleType.Logarithmic"
   ],
   "id": "8e15afb01aadbee3",
   "outputs": [],
   "execution_count": null
  }
 ],
 "metadata": {
  "kernelspec": {
   "display_name": "Python 3 (ipykernel)",
   "language": "python",
   "name": "python3"
  },
  "language_info": {
   "codemirror_mode": {
    "name": "ipython",
    "version": 3
   },
   "file_extension": ".py",
   "mimetype": "text/x-python",
   "name": "python",
   "nbconvert_exporter": "python",
   "pygments_lexer": "ipython3",
   "version": "3.12.3"
  }
 },
 "nbformat": 4,
 "nbformat_minor": 5
}
