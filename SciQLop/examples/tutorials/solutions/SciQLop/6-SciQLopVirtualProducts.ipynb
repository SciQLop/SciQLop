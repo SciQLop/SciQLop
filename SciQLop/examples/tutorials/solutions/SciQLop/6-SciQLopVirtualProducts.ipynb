{
 "cells": [
  {
   "cell_type": "markdown",
   "id": "9e8f29f9-b893-4e60-a4d3-80f88ac38fa7",
   "metadata": {},
   "source": [
    "# TP 3 SciQLOP - Virtual Products\n",
    "The goal of this practical session is to create and manipulate SciQLOP virtual products\n",
    "<div align=\"center\">\n",
    "<img src=\"https://github.com/SciQLop/SciQLop/raw/main/SciQLop/resources/icons/SciQLop.png\"/>\n",
    "</div>"
   ]
  },
  {
   "cell_type": "markdown",
   "id": "911630f8-af56-4361-ba82-bd0bbbc68c1f",
   "metadata": {},
   "source": [
    "# Mirror mode threshold virtual products\n",
    "\n",
    "In this exercice, we will create a virtual product that computes the mirror mode instability threshold value\\ \n",
    "that we have already encountered in the previous exercice.\\\n",
    "As a reminder, the formula is :\n",
    "\n",
    "\n",
    "$$ C = \\beta_\\perp\\left(\\frac{T_\\perp}{T_{\\parallel}}-1\\right)$$ \n",
    "\n",
    "\n",
    "where :\n",
    "\n",
    "$$\\beta_\\perp = \\frac{2\\mu_0P_\\perp}{B^2}$$\n",
    "\n",
    "Now in a SciQLOP notebook, define a function computing this value, and define a new scalar virtual product under the path \"mms/mirror\".\n",
    "\n",
    "Complete the following code to create the virtual product.\n"
   ]
  },
  {
   "cell_type": "markdown",
   "id": "2ea697ca-a8a7-4fd5-af85-ed2eaa88158f",
   "metadata": {},
   "source": [
    "# "
   ]
  },
  {
   "metadata": {},
   "cell_type": "code",
   "source": [
    "from SciQLop.user_api.virtual_products import create_virtual_product, VirtualProductType\n",
    "from speasy import SpeasyVariable\n",
    "from speasy.signal.resampling import interpolate\n",
    "import speasy as spz\n",
    "import scipy.constants as cst\n",
    "\n",
    "\n",
    "def mirror_mode_threshold(start_time: float, stop_time: float) -> SpeasyVariable or None:\n",
    "    ...\n",
    "    return ...\n",
    "\n",
    "\n",
    "mirror_mode_threshold_vp = create_virtual_product(\"/mms/mirror\", mirror_mode_threshold, VirtualProductType.Scalar,\n",
    "                                                  labels=[\"Mirror mode threshold\"])"
   ],
   "id": "803b23eb3c3fcea1",
   "outputs": [],
   "execution_count": null
  },
  {
   "metadata": {},
   "cell_type": "code",
   "source": [
    "\n",
    "# ANSWER\n",
    "# ------\n",
    "\n",
    "from SciQLop.user_api.virtual_products import create_virtual_product, VirtualProductType\n",
    "from speasy import SpeasyVariable\n",
    "from speasy.signal.resampling import interpolate\n",
    "import speasy as spz\n",
    "import scipy.constants as cst\n",
    "\n",
    "\n",
    "def mirror_mode_threshold(start_time: float, stop_time: float) -> SpeasyVariable or None:\n",
    "    mms1_products = spz.inventories.data_tree.cda.MMS.MMS1\n",
    "    products = [mms1_products.DIS.MMS1_FPI_FAST_L2_DIS_MOMS.mms1_dis_temppara_fast,\n",
    "                mms1_products.DIS.MMS1_FPI_FAST_L2_DIS_MOMS.mms1_dis_tempperp_fast,\n",
    "                mms1_products.FGM.MMS1_FGM_SRVY_L2.mms1_fgm_b_gse_srvy_l2,\n",
    "                mms1_products.DIS.MMS1_FPI_FAST_L2_DIS_MOMS.mms1_dis_numberdensity_fast]\n",
    "\n",
    "    tpara, tperp, b, n = spz.get_data(products, start_time, stop_time)\n",
    "\n",
    "    anisotropy = tperp / tpara\n",
    "    Pperp = tperp * n * 1e6\n",
    "    b = interpolate(tperp, b)\n",
    "    betaperp = Pperp * cst.mu_0 * cst.e * 2 / (b[\"Bt\"] * 1e-9) ** 2\n",
    "    mirror = betaperp * (anisotropy - 1)\n",
    "    return mirror\n",
    "\n",
    "\n",
    "mirror_mode_threshold_vp = create_virtual_product(\"/mms/mirror\", mirror_mode_threshold, VirtualProductType.Scalar,\n",
    "                                                  labels=[\"Mirror mode threshold\"])\n"
   ],
   "id": "695845a055553aca",
   "outputs": [],
   "execution_count": null
  },
  {
   "metadata": {},
   "cell_type": "code",
   "source": [
    "from SciQLop.user_api.plot import create_plot_panel\n",
    "from SciQLop.user_api import TimeRange\n",
    "\n",
    "panel = create_plot_panel()\n",
    "panel.time_range = TimeRange(\"2021-01-01\", \"2021-01-02\")\n",
    "panel.plot(mirror_mode_threshold_vp)"
   ],
   "id": "252fd5e94c5d881b",
   "outputs": [],
   "execution_count": null
  }
 ],
 "metadata": {
  "kernelspec": {
   "display_name": "Python 3 (ipykernel)",
   "language": "python",
   "name": "python3"
  },
  "language_info": {
   "codemirror_mode": {
    "name": "ipython",
    "version": 3
   },
   "file_extension": ".py",
   "mimetype": "text/x-python",
   "name": "python",
   "nbconvert_exporter": "python",
   "pygments_lexer": "ipython3",
   "version": "3.12.3"
  }
 },
 "nbformat": 4,
 "nbformat_minor": 5
}
