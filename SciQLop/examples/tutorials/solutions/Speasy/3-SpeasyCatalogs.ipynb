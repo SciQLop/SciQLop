{
 "cells": [
  {
   "cell_type": "markdown",
   "id": "83095f8c-6d7f-49b9-8c47-11a1084dcf4e",
   "metadata": {},
   "source": [
    "# Exercices 3 - AMDA Catalogs with Speasy\n",
    "\n",
    "<div align=\"center\">\n",
    "<img src=\"https://raw.githubusercontent.com/SciQLop/speasy/main/logo/logo_speasy.svg\"/>\n",
    "    <img src=\"http://cdpp.irap.omp.eu/images/logosOutils/amda.png\" />\n",
    "</div>"
   ]
  },
  {
   "cell_type": "code",
   "id": "7d022246-6e29-4c48-83eb-a67ee3314893",
   "metadata": {
    "execution": {
     "iopub.execute_input": "2024-05-08T14:40:14.783024Z",
     "iopub.status.busy": "2024-05-08T14:40:14.782603Z",
     "iopub.status.idle": "2024-05-08T14:40:16.633424Z",
     "shell.execute_reply": "2024-05-08T14:40:16.632738Z",
     "shell.execute_reply.started": "2024-05-08T14:40:14.783004Z"
    }
   },
   "source": [
    "import speasy as spz"
   ],
   "outputs": [],
   "execution_count": null
  },
  {
   "cell_type": "markdown",
   "id": "f38bbf7d-6d04-41ef-a39a-f8c5956d09dd",
   "metadata": {},
   "source": [
    "# Downloading AMDA catalogs\n",
    "\n",
    "Speasy catalog objects are basically a list of time intervals plus some metadata.\n",
    "\n",
    "Get the LPP bowshock list from AMDA shared catalogs located in **Catalogs/SharedCatalogs/EARTH/LPP_bowshock_list** using `speasy.get_data`."
   ]
  },
  {
   "cell_type": "code",
   "id": "e7977602-1b24-4f93-b09b-d99cb883627d",
   "metadata": {
    "execution": {
     "iopub.execute_input": "2024-05-08T14:40:20.442660Z",
     "iopub.status.busy": "2024-05-08T14:40:20.442321Z",
     "iopub.status.idle": "2024-05-08T14:40:20.445632Z",
     "shell.execute_reply": "2024-05-08T14:40:20.445070Z",
     "shell.execute_reply.started": "2024-05-08T14:40:20.442640Z"
    }
   },
   "source": [
    "#\n",
    "#\n",
    "# your code here\n",
    "#\n",
    "# bs_catalog = .....\n",
    "#"
   ],
   "outputs": [],
   "execution_count": null
  },
  {
   "cell_type": "code",
   "id": "f63eca76-5363-4123-9d0a-31e79f3babff",
   "metadata": {
    "execution": {
     "iopub.execute_input": "2024-05-08T14:40:20.849933Z",
     "iopub.status.busy": "2024-05-08T14:40:20.849485Z",
     "iopub.status.idle": "2024-05-08T14:40:22.609175Z",
     "shell.execute_reply": "2024-05-08T14:40:22.608511Z",
     "shell.execute_reply.started": "2024-05-08T14:40:20.849915Z"
    }
   },
   "source": [
    "# answer\n",
    "amda = spz.inventories.data_tree.amda\n",
    "bow_shock_catalog_path = amda.Catalogs.SharedCatalogs.EARTH.LPP_bowshock_list\n",
    "bs_catalog = spz.get_data(bow_shock_catalog_path)"
   ],
   "outputs": [],
   "execution_count": null
  },
  {
   "cell_type": "markdown",
   "id": "f22d693d-533b-4043-b344-21658406bd46",
   "metadata": {},
   "source": [
    "--- \n",
    "\n",
    "# Getting catalog informations"
   ]
  },
  {
   "cell_type": "markdown",
   "id": "d668e63c-51b2-4b21-84fb-398d21469eb9",
   "metadata": {},
   "source": [
    "Now you have a catalog called `bs_catalog`, can you tell who shared this catalog online, who is the contact name, what mission events are from, and what is the overall time interval this catalog is made over"
   ]
  },
  {
   "cell_type": "code",
   "id": "f09ed467-e9fd-4a44-aafd-218a6d1903ef",
   "metadata": {},
   "source": [
    "#\n",
    "#\n",
    "# your code here\n",
    "#\n",
    "#"
   ],
   "outputs": [],
   "execution_count": null
  },
  {
   "cell_type": "code",
   "id": "c286f2d2-ef0e-4fe8-9fe8-90e398c417f6",
   "metadata": {
    "execution": {
     "iopub.execute_input": "2024-05-08T14:46:44.488507Z",
     "iopub.status.busy": "2024-05-08T14:46:44.488212Z",
     "iopub.status.idle": "2024-05-08T14:46:44.492068Z",
     "shell.execute_reply": "2024-05-08T14:46:44.491534Z",
     "shell.execute_reply.started": "2024-05-08T14:46:44.488486Z"
    }
   },
   "source": [
    "# answer : \n",
    "for k, v in bs_catalog.meta.items():\n",
    "    print(f\"{k}: {v}\")"
   ],
   "outputs": [],
   "execution_count": null
  },
  {
   "cell_type": "markdown",
   "id": "354cfa2a-f444-44aa-b7b5-6b7925ef46ca",
   "metadata": {},
   "source": [
    "---\n",
    "\n",
    "# Manipulating events - plotting them"
   ]
  },
  {
   "cell_type": "markdown",
   "id": "f8012c7c-5345-4809-be00-a91aebc1f994",
   "metadata": {},
   "source": [
    "Below is a function that plots the omnidirectional energy flux, the ion bulk velocity and the magnetic field from MMS1, the same quantities as in exercice 2. : \n",
    "\n",
    "- mms1_dis_energyspectr_omni_brst\n",
    "- mms1_dis_bulkv_gse_brst\n",
    "- mms1_fgm_b_gse_brst_l2\n",
    "\n",
    "\n",
    "In case there is no burst data for the event (hint: the len() of the time attribute is 0), then take the \n",
    "\n",
    "- mms1_dis_energyspectr_omni_fast\n",
    "- mms1_dis_bulkv_gse_fast\n",
    "- mms1_fgm_b_gse_srvy_l2\n",
    "\n",
    "The following function takes a `dataset` that is a list of 3 `SpeasyVariable` for these quantities and saves figures on disk.\n",
    "The goal of this exercice is to call this function so to make the same figure from exercice 2 for the events in the AMDA catalog just downloaded for which the Y coordinate of the crossing is such that $|Y| < 0.2 R_e$\n"
   ]
  },
  {
   "cell_type": "code",
   "id": "58bee601-a0b9-42e0-adca-8e7e45b330d5",
   "metadata": {
    "execution": {
     "iopub.execute_input": "2024-05-08T15:05:09.815637Z",
     "iopub.status.busy": "2024-05-08T15:05:09.815228Z",
     "iopub.status.idle": "2024-05-08T15:05:09.822272Z",
     "shell.execute_reply": "2024-05-08T15:05:09.821858Z",
     "shell.execute_reply.started": "2024-05-08T15:05:09.815616Z"
    }
   },
   "source": [
    "import matplotlib.pyplot as plt\n",
    "%matplotlib widget\n",
    "from matplotlib.colors import LogNorm\n",
    "\n",
    "def plot_event(dataset):\n",
    "    \"\"\"\n",
    "    Parameter:\n",
    "    \"\"\"\n",
    "    fig, axes = plt.subplots(nrows=3, figsize=(10,5), sharex=True)\n",
    "    spectro  = datasets[0]\n",
    "    bulkVel  = datasets[1]\n",
    "    magnetic = datasets[2]\n",
    "    \n",
    "    axes[0].pcolormesh(spectro.time,\n",
    "                       spectro.axes[1].values[0,:],\n",
    "                       spectro.values.T, cmap=\"jet\", norm=LogNorm())\n",
    "    axes[0].set_yscale(\"log\")\n",
    "    \n",
    "    axes[1].plot(bulkVel.time, bulkVel.values, label=bulkVel.columns)\n",
    "    axes[2].plot(magnetic.time, magnetic.values, label = magnetic.columns)\n",
    "    \n",
    "    for ax in axes[1:]:\n",
    "        ax.legend(ncol=4, loc=\"best\")\n",
    "        \n",
    "    fig.tight_layout()\n",
    "    fig.savefig(f\"{spectro.time[0]}_{spectro.time[-1]}.png\")\n",
    "    plt.close(fig)"
   ],
   "outputs": [],
   "execution_count": null
  },
  {
   "cell_type": "code",
   "id": "8a60b7bf-f954-4f1d-8a1f-7d46d50b7cba",
   "metadata": {
    "execution": {
     "iopub.execute_input": "2024-05-08T15:05:10.234847Z",
     "iopub.status.busy": "2024-05-08T15:05:10.234261Z",
     "iopub.status.idle": "2024-05-08T15:05:10.237132Z",
     "shell.execute_reply": "2024-05-08T15:05:10.236721Z",
     "shell.execute_reply.started": "2024-05-08T15:05:10.234827Z"
    }
   },
   "source": [
    "#\n",
    "#\n",
    "# your code here\n",
    "#\n",
    "#"
   ],
   "outputs": [],
   "execution_count": null
  },
  {
   "cell_type": "code",
   "id": "22a4148b-2333-4559-b3e4-9321444112be",
   "metadata": {
    "execution": {
     "iopub.execute_input": "2024-05-08T15:11:25.044075Z",
     "iopub.status.busy": "2024-05-08T15:11:25.043574Z",
     "iopub.status.idle": "2024-05-08T15:18:51.442934Z",
     "shell.execute_reply": "2024-05-08T15:18:51.442360Z",
     "shell.execute_reply.started": "2024-05-08T15:11:25.044053Z"
    }
   },
   "source": [
    "# ANSWER\n",
    "# ------\n",
    "import numpy as np\n",
    "cda = spz.inventories.data_tree.cda\n",
    "for event in bs_catalog:\n",
    "    \n",
    "    to_select = np.abs(event.meta[\"Col 2\"])< 0.2\n",
    "    \n",
    "    if to_select:\n",
    "        \n",
    "        mms1_prods = [cda.MMS.MMS1.DIS.MMS1_FPI_BRST_L2_DIS_MOMS.mms1_dis_energyspectr_omni_brst,\n",
    "                            cda.MMS.MMS1.DIS.MMS1_FPI_BRST_L2_DIS_MOMS.mms1_dis_bulkv_gse_brst,\n",
    "                            cda.MMS.MMS1.FGM.MMS1_FGM_BRST_L2.mms1_fgm_b_gse_brst_l2]\n",
    "\n",
    "        datasets = spz.get_data(mms1_prods, event.start_time, event.stop_time)\n",
    "        \n",
    "        if len(datasets[0].time)==0:\n",
    "            mms1_prods = [cda.MMS.MMS1.DIS.MMS1_FPI_FAST_L2_DIS_MOMS.mms1_dis_energyspectr_omni_fast,\n",
    "                          cda.MMS.MMS1.DIS.MMS1_FPI_FAST_L2_DIS_MOMS.mms1_dis_bulkv_gse_fast,\n",
    "                          cda.MMS.MMS1.FGM.MMS1_FGM_SRVY_L2.mms1_fgm_b_gse_srvy_l2]\n",
    "        \n",
    "            datasets = spz.get_data(mms1_prods, event.start_time, event.stop_time)        \n",
    "\n",
    "        plot_event(datasets)"
   ],
   "outputs": [],
   "execution_count": null
  },
  {
   "cell_type": "code",
   "id": "ace558f0-1c64-4c64-8b1b-31ee967b33cc",
   "metadata": {},
   "source": [],
   "outputs": [],
   "execution_count": null
  }
 ],
 "metadata": {
  "kernelspec": {
   "display_name": "Python 3 (ipykernel)",
   "language": "python",
   "name": "python3"
  },
  "language_info": {
   "codemirror_mode": {
    "name": "ipython",
    "version": 3
   },
   "file_extension": ".py",
   "mimetype": "text/x-python",
   "name": "python",
   "nbconvert_exporter": "python",
   "pygments_lexer": "ipython3",
   "version": "3.12.3"
  }
 },
 "nbformat": 4,
 "nbformat_minor": 5
}
