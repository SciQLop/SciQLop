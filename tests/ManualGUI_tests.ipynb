{
 "cells": [
  {
   "cell_type": "code",
   "id": "initial_id",
   "metadata": {
    "collapsed": true,
    "ExecuteTime": {
     "end_time": "2024-06-11T12:46:54.994643Z",
     "start_time": "2024-06-11T12:46:52.428516Z"
    }
   },
   "source": [
    "from SciQLop.user_api import plot, gui, virtual_products, TimeRange\n",
    "import speasy as spz"
   ],
   "outputs": [
    {
     "name": "stdout",
     "output_type": "stream",
     "text": [
      "Process ID changed, closing SQLite connection\n",
      "Connecting to SQLite database\n",
      "Connecting to SQLite database\n",
      "Process ID changed, closing SQLite connection\n",
      "Connecting to SQLite database\n",
      "Connecting to SQLite database\n"
     ]
    }
   ],
   "execution_count": 1
  },
  {
   "metadata": {},
   "cell_type": "code",
   "outputs": [],
   "execution_count": null,
   "source": [
    "new_panel = plot.create_plot_panel()\n",
    "new_panel.time_range = TimeRange(\"2020-01-01\", \"2020-01-02\")\n",
    "mms1_fgm_plot = new_panel.plot(\"speasy//cda//MMS//MMS1//FGM//MMS1_FGM_SRVY_L2//mms1_fgm_b_gse_srvy_l2\")\n",
    "assert len(new_panel.plots) == 1\n",
    "assert mms1_fgm_plot.y_scale_type == plot.ScaleType.Linear\n",
    "mms1_dis_bulkv_gse_fast_index = spz.inventories.tree.cda.MMS.MMS1.DIS.MMS1_FPI_FAST_L2_DIS_MOMS.mms1_dis_bulkv_gse_fast"
   ],
   "id": "21787d2002f031ab"
  },
  {
   "metadata": {},
   "cell_type": "code",
   "outputs": [],
   "execution_count": null,
   "source": [
    "def mms1_dis_bulkv_gse_fast_Vx_GSE(start_time: float, stop_time: float) -> spz.SpeasyVariable or None:\n",
    "    return spz.get_data(\n",
    "        mms1_dis_bulkv_gse_fast_index,\n",
    "        start_time,\n",
    "        stop_time)['Vx_GSE']\n",
    "\n",
    "\n",
    "mms1_dis_bulkv_gse_fast_Vx_GSE_vp = virtual_products.create_virtual_product(\"/mms/mms1_dis_bulkv_gse_fast_Vx_GSE\",\n",
    "                                                                            mms1_dis_bulkv_gse_fast_Vx_GSE,\n",
    "                                                                            virtual_products.VirtualProductType.Scalar,\n",
    "                                                                            labels=['cm'], debug=True)\n",
    "\n",
    "new_panel.plot(mms1_dis_bulkv_gse_fast_Vx_GSE_vp)"
   ],
   "id": "321345146ecb051"
  },
  {
   "metadata": {},
   "cell_type": "code",
   "outputs": [],
   "execution_count": null,
   "source": [
    "def mms1_dis_bulkv_gse_fast(start_time: float, stop_time: float) -> spz.SpeasyVariable or None:\n",
    "    return spz.get_data(mms1_dis_bulkv_gse_fast_index, start_time, stop_time)\n",
    "\n",
    "\n",
    "mms1_dis_bulkv_gse_fast_vp = virtual_products.create_virtual_product(\"/mms/mms1_dis_bulkv_gse_fast\",\n",
    "                                                                     mms1_dis_bulkv_gse_fast,\n",
    "                                                                     virtual_products.VirtualProductType.Vector,\n",
    "                                                                     labels=['Vx', 'Vy', 'Vz'],\n",
    "                                                                     debug=True)\n",
    "\n",
    "new_panel.plot(mms1_dis_bulkv_gse_fast_vp)"
   ],
   "id": "12ffdd4399a16234"
  },
  {
   "metadata": {},
   "cell_type": "code",
   "outputs": [],
   "execution_count": null,
   "source": [
    "\n",
    "mms1_dis_bulkv_gse_fast_vp_mc = virtual_products.create_virtual_product(\"/mms/mms1_dis_bulkv_gse_fast_mc\",\n",
    "                                                                        mms1_dis_bulkv_gse_fast,\n",
    "                                                                        virtual_products.VirtualProductType.MultiComponent,\n",
    "                                                                        labels=['Vx', 'Vy', 'Vz'],\n",
    "                                                                        debug=True)\n",
    "\n",
    "new_panel.plot(mms1_dis_bulkv_gse_fast_vp_mc)"
   ],
   "id": "7cc9a591093c1641"
  },
  {
   "metadata": {},
   "cell_type": "code",
   "outputs": [],
   "execution_count": null,
   "source": "assert len(new_panel.plots) == 4",
   "id": "fb2746760f27a279"
  },
  {
   "metadata": {},
   "cell_type": "code",
   "outputs": [],
   "execution_count": null,
   "source": [
    "def mms1_dis_energyspectr_omni_fast(start_time: float, stop_time: float) -> spz.SpeasyVariable or None:\n",
    "    return spz.get_data(\n",
    "        spz.inventories.tree.cda.MMS.MMS1.DIS.MMS1_FPI_FAST_L2_DIS_MOMS.mms1_dis_energyspectr_omni_fast,\n",
    "        start_time,\n",
    "        stop_time)\n",
    "\n",
    "\n",
    "mms1_dis_energyspectr_omni_fast_mc = virtual_products.create_virtual_product(\"/mms/mms1_dis_energyspectr_omni_fast\",\n",
    "                                                                             mms1_dis_energyspectr_omni_fast,\n",
    "                                                                             virtual_products.VirtualProductType.Spectrogram,\n",
    "                                                                             debug=True)\n",
    "\n",
    "new_panel.plot(mms1_dis_energyspectr_omni_fast_mc)"
   ],
   "id": "9312a13b0254bdf1"
  }
 ],
 "metadata": {
  "kernelspec": {
   "display_name": "Python 3",
   "language": "python",
   "name": "python3"
  },
  "language_info": {
   "codemirror_mode": {
    "name": "ipython",
    "version": 2
   },
   "file_extension": ".py",
   "mimetype": "text/x-python",
   "name": "python",
   "nbconvert_exporter": "python",
   "pygments_lexer": "ipython2",
   "version": "2.7.6"
  }
 },
 "nbformat": 4,
 "nbformat_minor": 5
}
